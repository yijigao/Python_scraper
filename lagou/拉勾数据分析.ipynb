{
 "cells": [
  {
   "cell_type": "code",
   "execution_count": 102,
   "metadata": {
    "collapsed": true
   },
   "outputs": [],
   "source": [
    "import pandas as pd\n",
    "import matplotlib.pyplot as plt\n",
    "import numpy as np\n",
    "import scipy\n",
    "import math\n",
    "import seaborn\n",
    "\n",
    "plt.rcParams['font.sans-serif']=['SimHei']\n",
    "plt.rcParams['axes.unicode_minus']= False"
   ]
  },
  {
   "cell_type": "code",
   "execution_count": 31,
   "metadata": {},
   "outputs": [],
   "source": [
    "lg_df = pd.read_csv(\"lagou.csv\")"
   ]
  },
  {
   "cell_type": "code",
   "execution_count": 32,
   "metadata": {
    "scrolled": false
   },
   "outputs": [
    {
     "name": "stdout",
     "output_type": "stream",
     "text": [
      "<class 'pandas.core.frame.DataFrame'>\n",
      "RangeIndex: 2505 entries, 0 to 2504\n",
      "Data columns (total 17 columns):\n",
      "city                 2505 non-null object\n",
      "companyFullName      2505 non-null object\n",
      "companyLabelList     2505 non-null object\n",
      "companySize          2504 non-null object\n",
      "education            2505 non-null object\n",
      "financeStage         2504 non-null object\n",
      "firstType            2505 non-null object\n",
      "industryField        2504 non-null object\n",
      "jobNature            2505 non-null object\n",
      "latitude             2493 non-null float64\n",
      "longitude            2493 non-null float64\n",
      "positionAdvantage    2505 non-null object\n",
      "positionId           2505 non-null int64\n",
      "positionLables       2505 non-null object\n",
      "positionName         2505 non-null object\n",
      "salary               2505 non-null object\n",
      "workYear             2505 non-null object\n",
      "dtypes: float64(2), int64(1), object(14)\n",
      "memory usage: 332.8+ KB\n"
     ]
    }
   ],
   "source": [
    "lg_df.info()"
   ]
  },
  {
   "cell_type": "code",
   "execution_count": 95,
   "metadata": {},
   "outputs": [
    {
     "data": {
      "text/html": [
       "<div>\n",
       "<style>\n",
       "    .dataframe thead tr:only-child th {\n",
       "        text-align: right;\n",
       "    }\n",
       "\n",
       "    .dataframe thead th {\n",
       "        text-align: left;\n",
       "    }\n",
       "\n",
       "    .dataframe tbody tr th {\n",
       "        vertical-align: top;\n",
       "    }\n",
       "</style>\n",
       "<table border=\"1\" class=\"dataframe\">\n",
       "  <thead>\n",
       "    <tr style=\"text-align: right;\">\n",
       "      <th></th>\n",
       "      <th>city</th>\n",
       "      <th>companyFullName</th>\n",
       "      <th>companyLabelList</th>\n",
       "      <th>companySize</th>\n",
       "      <th>education</th>\n",
       "      <th>financeStage</th>\n",
       "      <th>firstType</th>\n",
       "      <th>industryField</th>\n",
       "      <th>jobNature</th>\n",
       "      <th>latitude</th>\n",
       "      <th>longitude</th>\n",
       "      <th>positionAdvantage</th>\n",
       "      <th>positionId</th>\n",
       "      <th>positionLables</th>\n",
       "      <th>positionName</th>\n",
       "      <th>salary</th>\n",
       "      <th>workYear</th>\n",
       "      <th>salary_sp</th>\n",
       "    </tr>\n",
       "  </thead>\n",
       "  <tbody>\n",
       "    <tr>\n",
       "      <th>0</th>\n",
       "      <td>上海</td>\n",
       "      <td>德佑房地产经纪有限公司</td>\n",
       "      <td>['技能培训', '带薪年假', '年度旅游', '岗位晋升']</td>\n",
       "      <td>500-2000人</td>\n",
       "      <td>本科</td>\n",
       "      <td>B轮</td>\n",
       "      <td>市场与销售</td>\n",
       "      <td>企业服务</td>\n",
       "      <td>全职</td>\n",
       "      <td>31.230434</td>\n",
       "      <td>121.463097</td>\n",
       "      <td>大数据 大挑战 有竞争力的薪资</td>\n",
       "      <td>1735598</td>\n",
       "      <td>['大数据']</td>\n",
       "      <td>数据分析专家</td>\n",
       "      <td>20k-30k</td>\n",
       "      <td>5-10年</td>\n",
       "      <td>25000.0</td>\n",
       "    </tr>\n",
       "    <tr>\n",
       "      <th>1</th>\n",
       "      <td>杭州</td>\n",
       "      <td>浙江日报报业集团</td>\n",
       "      <td>['带薪年假', '美女多', '定期体检', '人才公寓']</td>\n",
       "      <td>2000人以上</td>\n",
       "      <td>本科</td>\n",
       "      <td>不需要融资</td>\n",
       "      <td>开发/测试/运维类</td>\n",
       "      <td>移动互联网,文化娱乐</td>\n",
       "      <td>全职</td>\n",
       "      <td>29.993662</td>\n",
       "      <td>119.993591</td>\n",
       "      <td>五险一金,绩效奖金,通讯补贴,餐补</td>\n",
       "      <td>2780066</td>\n",
       "      <td>[]</td>\n",
       "      <td>运营数据分析师</td>\n",
       "      <td>8k-15k</td>\n",
       "      <td>1-3年</td>\n",
       "      <td>11500.0</td>\n",
       "    </tr>\n",
       "    <tr>\n",
       "      <th>2</th>\n",
       "      <td>北京</td>\n",
       "      <td>杏树林信息技术（北京）有限公司</td>\n",
       "      <td>['A类人才', '股票期权', '带薪年假', '年度旅游']</td>\n",
       "      <td>150-500人</td>\n",
       "      <td>大专</td>\n",
       "      <td>C轮</td>\n",
       "      <td>开发/测试/运维类</td>\n",
       "      <td>移动互联网,医疗健康</td>\n",
       "      <td>全职</td>\n",
       "      <td>39.893135</td>\n",
       "      <td>116.447045</td>\n",
       "      <td>氛围好,追求卓越,免费三餐,免费下午茶</td>\n",
       "      <td>3690416</td>\n",
       "      <td>['医疗健康', '大数据', '二次元', '活动运营']</td>\n",
       "      <td>数据分析师-医疗</td>\n",
       "      <td>10k-20k</td>\n",
       "      <td>1-3年</td>\n",
       "      <td>15000.0</td>\n",
       "    </tr>\n",
       "    <tr>\n",
       "      <th>3</th>\n",
       "      <td>北京</td>\n",
       "      <td>支付宝(杭州)信息技术有限公司</td>\n",
       "      <td>['年底双薪', '带薪年假', '股票期权', '绩效奖金']</td>\n",
       "      <td>2000人以上</td>\n",
       "      <td>本科</td>\n",
       "      <td>B轮</td>\n",
       "      <td>开发/测试/运维类</td>\n",
       "      <td>金融,移动互联网</td>\n",
       "      <td>全职</td>\n",
       "      <td>39.993252</td>\n",
       "      <td>116.473198</td>\n",
       "      <td>核心事业部,顶级的技术,大牛云集,学习晋升快</td>\n",
       "      <td>3692688</td>\n",
       "      <td>['搜索', '机器学习', '数据图谱']</td>\n",
       "      <td>高德-NLP/推荐算法/数据挖掘/数据分析/图谱</td>\n",
       "      <td>25k-50k</td>\n",
       "      <td>3-5年</td>\n",
       "      <td>37500.0</td>\n",
       "    </tr>\n",
       "    <tr>\n",
       "      <th>4</th>\n",
       "      <td>北京</td>\n",
       "      <td>优舫（北京）信息科技有限公司</td>\n",
       "      <td>['绩效奖金', '通讯津贴', '带薪年假', '交通补助']</td>\n",
       "      <td>2000人以上</td>\n",
       "      <td>本科</td>\n",
       "      <td>D轮及以上</td>\n",
       "      <td>开发/测试/运维类</td>\n",
       "      <td>电子商务,移动互联网</td>\n",
       "      <td>全职</td>\n",
       "      <td>39.991772</td>\n",
       "      <td>116.473585</td>\n",
       "      <td>福利待遇佳、企业平台好、晋升空间大</td>\n",
       "      <td>4083696</td>\n",
       "      <td>['数据挖掘', '用户行为分析']</td>\n",
       "      <td>资深数据分析师-北京-13343</td>\n",
       "      <td>20k-30k</td>\n",
       "      <td>5-10年</td>\n",
       "      <td>25000.0</td>\n",
       "    </tr>\n",
       "  </tbody>\n",
       "</table>\n",
       "</div>"
      ],
      "text/plain": [
       "  city  companyFullName                  companyLabelList companySize  \\\n",
       "0   上海      德佑房地产经纪有限公司  ['技能培训', '带薪年假', '年度旅游', '岗位晋升']   500-2000人   \n",
       "1   杭州         浙江日报报业集团   ['带薪年假', '美女多', '定期体检', '人才公寓']     2000人以上   \n",
       "2   北京  杏树林信息技术（北京）有限公司  ['A类人才', '股票期权', '带薪年假', '年度旅游']    150-500人   \n",
       "3   北京  支付宝(杭州)信息技术有限公司  ['年底双薪', '带薪年假', '股票期权', '绩效奖金']     2000人以上   \n",
       "4   北京   优舫（北京）信息科技有限公司  ['绩效奖金', '通讯津贴', '带薪年假', '交通补助']     2000人以上   \n",
       "\n",
       "  education financeStage  firstType industryField jobNature   latitude  \\\n",
       "0        本科           B轮      市场与销售          企业服务        全职  31.230434   \n",
       "1        本科        不需要融资  开发/测试/运维类    移动互联网,文化娱乐        全职  29.993662   \n",
       "2        大专           C轮  开发/测试/运维类    移动互联网,医疗健康        全职  39.893135   \n",
       "3        本科           B轮  开发/测试/运维类      金融,移动互联网        全职  39.993252   \n",
       "4        本科        D轮及以上  开发/测试/运维类    电子商务,移动互联网        全职  39.991772   \n",
       "\n",
       "    longitude       positionAdvantage  positionId  \\\n",
       "0  121.463097         大数据 大挑战 有竞争力的薪资     1735598   \n",
       "1  119.993591       五险一金,绩效奖金,通讯补贴,餐补     2780066   \n",
       "2  116.447045     氛围好,追求卓越,免费三餐,免费下午茶     3690416   \n",
       "3  116.473198  核心事业部,顶级的技术,大牛云集,学习晋升快     3692688   \n",
       "4  116.473585       福利待遇佳、企业平台好、晋升空间大     4083696   \n",
       "\n",
       "                   positionLables              positionName   salary workYear  \\\n",
       "0                         ['大数据']                    数据分析专家  20k-30k    5-10年   \n",
       "1                              []                   运营数据分析师   8k-15k     1-3年   \n",
       "2  ['医疗健康', '大数据', '二次元', '活动运营']                  数据分析师-医疗  10k-20k     1-3年   \n",
       "3          ['搜索', '机器学习', '数据图谱']  高德-NLP/推荐算法/数据挖掘/数据分析/图谱  25k-50k     3-5年   \n",
       "4              ['数据挖掘', '用户行为分析']          资深数据分析师-北京-13343  20k-30k    5-10年   \n",
       "\n",
       "   salary_sp  \n",
       "0    25000.0  \n",
       "1    11500.0  \n",
       "2    15000.0  \n",
       "3    37500.0  \n",
       "4    25000.0  "
      ]
     },
     "execution_count": 95,
     "metadata": {},
     "output_type": "execute_result"
    }
   ],
   "source": [
    "lg_df.head()"
   ]
  },
  {
   "cell_type": "code",
   "execution_count": 48,
   "metadata": {
    "scrolled": true
   },
   "outputs": [
    {
     "data": {
      "text/plain": [
       "Text(0.5,1,'数据分析岗位数量前十的城市')"
      ]
     },
     "execution_count": 48,
     "metadata": {},
     "output_type": "execute_result"
    },
    {
     "data": {
      "image/png": "[encoded data removed]",
      "text/plain": [
       "<matplotlib.figure.Figure at 0x1f56e81dcc0>"
      ]
     },
     "metadata": {},
     "output_type": "display_data"
    }
   ],
   "source": [
    "# 哪个城市的数据分析岗位最多？\n",
    "top_ten_city = lg_df.groupby('city')['companyFullName'].count().sort_values()[-10:]\n",
    "top_ten_city.plot(kind=\"barh\")\n",
    "plt.xlabel(\"数量\")\n",
    "plt.ylabel(\"城市\")\n",
    "plt.title(\"数据分析岗位数量前十的城市\")"
   ]
  },
  {
   "cell_type": "code",
   "execution_count": 68,
   "metadata": {},
   "outputs": [],
   "source": [
    "# 处理薪资数据，将其转成具体数据取平均\n",
    "def parse_salary(salary):\n",
    "    if \"-\" in salary:\n",
    "        salary = salary.replace(\"k\", \"\").replace(\"K\", \"\")\n",
    "    else:\n",
    "        salary = salary.split(\"k\")[0]\n",
    "    try:\n",
    "        min_s = salary.split(\"-\")[0]\n",
    "        max_s = salary.split(\"-\")[1]\n",
    "        return ((int(min_s) + int(max_s)) * 1000) / 2\n",
    "    except IndexError:\n",
    "        return int(salary) * 1000\n",
    "\n",
    "# lg_df[\"salary_sp\"] = lg_df[\"salary\"].apply(parse_salary)"
   ]
  },
  {
   "cell_type": "code",
   "execution_count": 69,
   "metadata": {},
   "outputs": [],
   "source": [
    "lg_df[\"salary_sp\"] = lg_df[\"salary\"].apply(parse_salary)"
   ]
  },
  {
   "cell_type": "code",
   "execution_count": 94,
   "metadata": {
    "scrolled": true
   },
   "outputs": [
    {
     "data": {
      "image/png": "[encoded data removed]",
      "text/plain": [
       "<matplotlib.figure.Figure at 0x1f56b2e45c0>"
      ]
     },
     "metadata": {},
     "output_type": "display_data"
    }
   ],
   "source": [
    "# 平均薪资排名前十的城市\n",
    "salary_summary = lg_df.groupby(\"city\")[\"salary_sp\"].describe()\n",
    "top_ten_salary = salary_summary.sort_values(by=\"count\",ascending=False)[\"mean\"][:10]\n",
    "top_ten_salary.sort_values().plot(kind=\"barh\")\n",
    "plt.title(\"平均薪资前十的城市\")\n",
    "plt.xlabel(\"平均薪资\")\n",
    "plt.ylabel(\"城市\")\n",
    "plt.show()"
   ]
  },
  {
   "cell_type": "code",
   "execution_count": 103,
   "metadata": {},
   "outputs": [
    {
     "data": {
      "text/plain": [
       "<matplotlib.axes._subplots.AxesSubplot at 0x1f56be2f828>"
      ]
     },
     "execution_count": 103,
     "metadata": {},
     "output_type": "execute_result"
    },
    {
     "data": {
      "image/png": "[encoded data removed]",
      "text/plain": [
       "<matplotlib.figure.Figure at 0x1f56b1e3a20>"
      ]
     },
     "metadata": {},
     "output_type": "display_data"
    }
   ],
   "source": [
    "seaborn.boxplot(x = \"city\", y = \"salary_sp\", data=lg_df)"
   ]
  }
 ],
 "metadata": {
  "kernelspec": {
   "display_name": "Python 3",
   "language": "python",
   "name": "python3"
  },
  "language_info": {
   "codemirror_mode": {
    "name": "ipython",
    "version": 3
   },
   "file_extension": ".py",
   "mimetype": "text/x-python",
   "name": "python",
   "nbconvert_exporter": "python",
   "pygments_lexer": "ipython3",
   "version": "3.6.3"
  }
 },
 "nbformat": 4,
 "nbformat_minor": 2
}
