{
 "cells": [
  {
   "cell_type": "code",
   "execution_count": 1,
   "metadata": {
    "collapsed": true
   },
   "outputs": [],
   "source": [
    "import pandas as pd\n",
    "import matplotlib.pyplot as plt\n",
    "import numpy as np\n",
    "import scipy\n",
    "import math\n",
    "import seaborn as sns\n",
    "%matplotlib inline\n",
    "\n",
    "# 解决pyplot绘图中文乱码问题\n",
    "plt.rcParams['font.sans-serif']=['SimHei']\n",
    "plt.rcParams['axes.unicode_minus']= False\n",
    "# sns.set(rc={\"figure.figsize\": (10, 6), \"font.sans-serif\": \"SimHei\", \"axes.unicode_minus\": False})"
   ]
  },
  {
   "cell_type": "code",
   "execution_count": 2,
   "metadata": {
    "collapsed": true
   },
   "outputs": [],
   "source": [
    "lg_df = pd.read_csv(\"lagou.csv\")"
   ]
  },
  {
   "cell_type": "code",
   "execution_count": 3,
   "metadata": {
    "scrolled": false
   },
   "outputs": [
    {
     "name": "stdout",
     "output_type": "stream",
     "text": [
      "<class 'pandas.core.frame.DataFrame'>\n",
      "RangeIndex: 2505 entries, 0 to 2504\n",
      "Data columns (total 17 columns):\n",
      "city                 2505 non-null object\n",
      "companyFullName      2505 non-null object\n",
      "companyLabelList     2505 non-null object\n",
      "companySize          2504 non-null object\n",
      "education            2505 non-null object\n",
      "financeStage         2504 non-null object\n",
      "firstType            2505 non-null object\n",
      "industryField        2504 non-null object\n",
      "jobNature            2505 non-null object\n",
      "latitude             2493 non-null float64\n",
      "longitude            2493 non-null float64\n",
      "positionAdvantage    2505 non-null object\n",
      "positionId           2505 non-null int64\n",
      "positionLables       2505 non-null object\n",
      "positionName         2505 non-null object\n",
      "salary               2505 non-null object\n",
      "workYear             2505 non-null object\n",
      "dtypes: float64(2), int64(1), object(14)\n",
      "memory usage: 332.8+ KB\n"
     ]
    }
   ],
   "source": [
    "lg_df.info()"
   ]
  },
  {
   "cell_type": "code",
   "execution_count": 4,
   "metadata": {
    "scrolled": true
   },
   "outputs": [
    {
     "data": {
      "text/html": [
       "<div>\n",
       "<style>\n",
       "    .dataframe thead tr:only-child th {\n",
       "        text-align: right;\n",
       "    }\n",
       "\n",
       "    .dataframe thead th {\n",
       "        text-align: left;\n",
       "    }\n",
       "\n",
       "    .dataframe tbody tr th {\n",
       "        vertical-align: top;\n",
       "    }\n",
       "</style>\n",
       "<table border=\"1\" class=\"dataframe\">\n",
       "  <thead>\n",
       "    <tr style=\"text-align: right;\">\n",
       "      <th></th>\n",
       "      <th>city</th>\n",
       "      <th>companyFullName</th>\n",
       "      <th>companyLabelList</th>\n",
       "      <th>companySize</th>\n",
       "      <th>education</th>\n",
       "      <th>financeStage</th>\n",
       "      <th>firstType</th>\n",
       "      <th>industryField</th>\n",
       "      <th>jobNature</th>\n",
       "      <th>latitude</th>\n",
       "      <th>longitude</th>\n",
       "      <th>positionAdvantage</th>\n",
       "      <th>positionId</th>\n",
       "      <th>positionLables</th>\n",
       "      <th>positionName</th>\n",
       "      <th>salary</th>\n",
       "      <th>workYear</th>\n",
       "    </tr>\n",
       "  </thead>\n",
       "  <tbody>\n",
       "    <tr>\n",
       "      <th>0</th>\n",
       "      <td>上海</td>\n",
       "      <td>德佑房地产经纪有限公司</td>\n",
       "      <td>['技能培训', '带薪年假', '年度旅游', '岗位晋升']</td>\n",
       "      <td>500-2000人</td>\n",
       "      <td>本科</td>\n",
       "      <td>B轮</td>\n",
       "      <td>市场与销售</td>\n",
       "      <td>企业服务</td>\n",
       "      <td>全职</td>\n",
       "      <td>31.230434</td>\n",
       "      <td>121.463097</td>\n",
       "      <td>大数据 大挑战 有竞争力的薪资</td>\n",
       "      <td>1735598</td>\n",
       "      <td>['大数据']</td>\n",
       "      <td>数据分析专家</td>\n",
       "      <td>20k-30k</td>\n",
       "      <td>5-10年</td>\n",
       "    </tr>\n",
       "    <tr>\n",
       "      <th>1</th>\n",
       "      <td>杭州</td>\n",
       "      <td>浙江日报报业集团</td>\n",
       "      <td>['带薪年假', '美女多', '定期体检', '人才公寓']</td>\n",
       "      <td>2000人以上</td>\n",
       "      <td>本科</td>\n",
       "      <td>不需要融资</td>\n",
       "      <td>开发/测试/运维类</td>\n",
       "      <td>移动互联网,文化娱乐</td>\n",
       "      <td>全职</td>\n",
       "      <td>29.993662</td>\n",
       "      <td>119.993591</td>\n",
       "      <td>五险一金,绩效奖金,通讯补贴,餐补</td>\n",
       "      <td>2780066</td>\n",
       "      <td>[]</td>\n",
       "      <td>运营数据分析师</td>\n",
       "      <td>8k-15k</td>\n",
       "      <td>1-3年</td>\n",
       "    </tr>\n",
       "    <tr>\n",
       "      <th>2</th>\n",
       "      <td>北京</td>\n",
       "      <td>杏树林信息技术（北京）有限公司</td>\n",
       "      <td>['A类人才', '股票期权', '带薪年假', '年度旅游']</td>\n",
       "      <td>150-500人</td>\n",
       "      <td>大专</td>\n",
       "      <td>C轮</td>\n",
       "      <td>开发/测试/运维类</td>\n",
       "      <td>移动互联网,医疗健康</td>\n",
       "      <td>全职</td>\n",
       "      <td>39.893135</td>\n",
       "      <td>116.447045</td>\n",
       "      <td>氛围好,追求卓越,免费三餐,免费下午茶</td>\n",
       "      <td>3690416</td>\n",
       "      <td>['医疗健康', '大数据', '二次元', '活动运营']</td>\n",
       "      <td>数据分析师-医疗</td>\n",
       "      <td>10k-20k</td>\n",
       "      <td>1-3年</td>\n",
       "    </tr>\n",
       "    <tr>\n",
       "      <th>3</th>\n",
       "      <td>北京</td>\n",
       "      <td>支付宝(杭州)信息技术有限公司</td>\n",
       "      <td>['年底双薪', '带薪年假', '股票期权', '绩效奖金']</td>\n",
       "      <td>2000人以上</td>\n",
       "      <td>本科</td>\n",
       "      <td>B轮</td>\n",
       "      <td>开发/测试/运维类</td>\n",
       "      <td>金融,移动互联网</td>\n",
       "      <td>全职</td>\n",
       "      <td>39.993252</td>\n",
       "      <td>116.473198</td>\n",
       "      <td>核心事业部,顶级的技术,大牛云集,学习晋升快</td>\n",
       "      <td>3692688</td>\n",
       "      <td>['搜索', '机器学习', '数据图谱']</td>\n",
       "      <td>高德-NLP/推荐算法/数据挖掘/数据分析/图谱</td>\n",
       "      <td>25k-50k</td>\n",
       "      <td>3-5年</td>\n",
       "    </tr>\n",
       "    <tr>\n",
       "      <th>4</th>\n",
       "      <td>北京</td>\n",
       "      <td>优舫（北京）信息科技有限公司</td>\n",
       "      <td>['绩效奖金', '通讯津贴', '带薪年假', '交通补助']</td>\n",
       "      <td>2000人以上</td>\n",
       "      <td>本科</td>\n",
       "      <td>D轮及以上</td>\n",
       "      <td>开发/测试/运维类</td>\n",
       "      <td>电子商务,移动互联网</td>\n",
       "      <td>全职</td>\n",
       "      <td>39.991772</td>\n",
       "      <td>116.473585</td>\n",
       "      <td>福利待遇佳、企业平台好、晋升空间大</td>\n",
       "      <td>4083696</td>\n",
       "      <td>['数据挖掘', '用户行为分析']</td>\n",
       "      <td>资深数据分析师-北京-13343</td>\n",
       "      <td>20k-30k</td>\n",
       "      <td>5-10年</td>\n",
       "    </tr>\n",
       "  </tbody>\n",
       "</table>\n",
       "</div>"
      ],
      "text/plain": [
       "  city  companyFullName                  companyLabelList companySize  \\\n",
       "0   上海      德佑房地产经纪有限公司  ['技能培训', '带薪年假', '年度旅游', '岗位晋升']   500-2000人   \n",
       "1   杭州         浙江日报报业集团   ['带薪年假', '美女多', '定期体检', '人才公寓']     2000人以上   \n",
       "2   北京  杏树林信息技术（北京）有限公司  ['A类人才', '股票期权', '带薪年假', '年度旅游']    150-500人   \n",
       "3   北京  支付宝(杭州)信息技术有限公司  ['年底双薪', '带薪年假', '股票期权', '绩效奖金']     2000人以上   \n",
       "4   北京   优舫（北京）信息科技有限公司  ['绩效奖金', '通讯津贴', '带薪年假', '交通补助']     2000人以上   \n",
       "\n",
       "  education financeStage  firstType industryField jobNature   latitude  \\\n",
       "0        本科           B轮      市场与销售          企业服务        全职  31.230434   \n",
       "1        本科        不需要融资  开发/测试/运维类    移动互联网,文化娱乐        全职  29.993662   \n",
       "2        大专           C轮  开发/测试/运维类    移动互联网,医疗健康        全职  39.893135   \n",
       "3        本科           B轮  开发/测试/运维类      金融,移动互联网        全职  39.993252   \n",
       "4        本科        D轮及以上  开发/测试/运维类    电子商务,移动互联网        全职  39.991772   \n",
       "\n",
       "    longitude       positionAdvantage  positionId  \\\n",
       "0  121.463097         大数据 大挑战 有竞争力的薪资     1735598   \n",
       "1  119.993591       五险一金,绩效奖金,通讯补贴,餐补     2780066   \n",
       "2  116.447045     氛围好,追求卓越,免费三餐,免费下午茶     3690416   \n",
       "3  116.473198  核心事业部,顶级的技术,大牛云集,学习晋升快     3692688   \n",
       "4  116.473585       福利待遇佳、企业平台好、晋升空间大     4083696   \n",
       "\n",
       "                   positionLables              positionName   salary workYear  \n",
       "0                         ['大数据']                    数据分析专家  20k-30k    5-10年  \n",
       "1                              []                   运营数据分析师   8k-15k     1-3年  \n",
       "2  ['医疗健康', '大数据', '二次元', '活动运营']                  数据分析师-医疗  10k-20k     1-3年  \n",
       "3          ['搜索', '机器学习', '数据图谱']  高德-NLP/推荐算法/数据挖掘/数据分析/图谱  25k-50k     3-5年  \n",
       "4              ['数据挖掘', '用户行为分析']          资深数据分析师-北京-13343  20k-30k    5-10年  "
      ]
     },
     "execution_count": 4,
     "metadata": {},
     "output_type": "execute_result"
    }
   ],
   "source": [
    "lg_df.head()"
   ]
  },
  {
   "cell_type": "code",
   "execution_count": 14,
   "metadata": {
    "scrolled": true
   },
   "outputs": [
    {
     "data": {
      "text/plain": [
       "Text(0.5,1,'岗位数量 Vs 城市')"
      ]
     },
     "execution_count": 14,
     "metadata": {},
     "output_type": "execute_result"
    },
    {
     "data": {
      "image/png": "[encoded data removed]",
      "text/plain": [
       "<matplotlib.figure.Figure at 0x26e50f80780>"
      ]
     },
     "metadata": {},
     "output_type": "display_data"
    }
   ],
   "source": [
    "# 哪个城市的数据分析岗位最多？\n",
    "top_ten_city = lg_df.groupby('city', as_index=False)['companyFullName'].count().sort_values(by=\"companyFullName\", ascending=False)[:10]\n",
    "sns.barplot(data=top_ten_city, y=\"city\", x=\"companyFullName\", color=\"c\")\n",
    "plt.xlabel('岗位数量')\n",
    "plt.ylabel('城市')\n",
    "plt.title(\"岗位数量 Vs 城市\")"
   ]
  },
  {
   "cell_type": "code",
   "execution_count": 36,
   "metadata": {
    "collapsed": true
   },
   "outputs": [],
   "source": [
    "# 处理薪资数据，将其转成具体数据取平均\n",
    "def parse_salary(salary):\n",
    "    if \"-\" in salary:\n",
    "        salary = salary.replace(\"k\", \"\").replace(\"K\", \"\")\n",
    "    else:\n",
    "        salary = salary.split(\"k\")[0]\n",
    "    try:\n",
    "        min_s = salary.split(\"-\")[0]\n",
    "        max_s = salary.split(\"-\")[1]\n",
    "        return ((int(min_s) + int(max_s)) * 1000) / 2\n",
    "    except IndexError:\n",
    "        return int(salary) * 1000\n",
    "\n",
    "lg_df[\"salary_sp\"] = lg_df[\"salary\"].apply(parse_salary)"
   ]
  },
  {
   "cell_type": "code",
   "execution_count": 37,
   "metadata": {
    "collapsed": true
   },
   "outputs": [],
   "source": [
    "lg_city = lg_df.query('[\"北京\",\"上海\",\"深圳\", \"广州\", \"杭州\", \"成都\", \"厦门\", \"武汉\", \"南京\", \"苏州\"] in city')"
   ]
  },
  {
   "cell_type": "code",
   "execution_count": 38,
   "metadata": {
    "scrolled": true
   },
   "outputs": [
    {
     "data": {
      "text/html": [
       "<div>\n",
       "<style>\n",
       "    .dataframe thead tr:only-child th {\n",
       "        text-align: right;\n",
       "    }\n",
       "\n",
       "    .dataframe thead th {\n",
       "        text-align: left;\n",
       "    }\n",
       "\n",
       "    .dataframe tbody tr th {\n",
       "        vertical-align: top;\n",
       "    }\n",
       "</style>\n",
       "<table border=\"1\" class=\"dataframe\">\n",
       "  <thead>\n",
       "    <tr style=\"text-align: right;\">\n",
       "      <th></th>\n",
       "      <th>city</th>\n",
       "      <th>companyFullName</th>\n",
       "      <th>companyLabelList</th>\n",
       "      <th>companySize</th>\n",
       "      <th>education</th>\n",
       "      <th>financeStage</th>\n",
       "      <th>firstType</th>\n",
       "      <th>industryField</th>\n",
       "      <th>jobNature</th>\n",
       "      <th>latitude</th>\n",
       "      <th>longitude</th>\n",
       "      <th>positionAdvantage</th>\n",
       "      <th>positionId</th>\n",
       "      <th>positionLables</th>\n",
       "      <th>positionName</th>\n",
       "      <th>salary</th>\n",
       "      <th>workYear</th>\n",
       "      <th>salary_sp</th>\n",
       "    </tr>\n",
       "  </thead>\n",
       "  <tbody>\n",
       "    <tr>\n",
       "      <th>0</th>\n",
       "      <td>上海</td>\n",
       "      <td>德佑房地产经纪有限公司</td>\n",
       "      <td>['技能培训', '带薪年假', '年度旅游', '岗位晋升']</td>\n",
       "      <td>500-2000人</td>\n",
       "      <td>本科</td>\n",
       "      <td>B轮</td>\n",
       "      <td>市场与销售</td>\n",
       "      <td>企业服务</td>\n",
       "      <td>全职</td>\n",
       "      <td>31.230434</td>\n",
       "      <td>121.463097</td>\n",
       "      <td>大数据 大挑战 有竞争力的薪资</td>\n",
       "      <td>1735598</td>\n",
       "      <td>['大数据']</td>\n",
       "      <td>数据分析专家</td>\n",
       "      <td>20k-30k</td>\n",
       "      <td>5-10年</td>\n",
       "      <td>25000.0</td>\n",
       "    </tr>\n",
       "    <tr>\n",
       "      <th>1</th>\n",
       "      <td>杭州</td>\n",
       "      <td>浙江日报报业集团</td>\n",
       "      <td>['带薪年假', '美女多', '定期体检', '人才公寓']</td>\n",
       "      <td>2000人以上</td>\n",
       "      <td>本科</td>\n",
       "      <td>不需要融资</td>\n",
       "      <td>开发/测试/运维类</td>\n",
       "      <td>移动互联网,文化娱乐</td>\n",
       "      <td>全职</td>\n",
       "      <td>29.993662</td>\n",
       "      <td>119.993591</td>\n",
       "      <td>五险一金,绩效奖金,通讯补贴,餐补</td>\n",
       "      <td>2780066</td>\n",
       "      <td>[]</td>\n",
       "      <td>运营数据分析师</td>\n",
       "      <td>8k-15k</td>\n",
       "      <td>1-3年</td>\n",
       "      <td>11500.0</td>\n",
       "    </tr>\n",
       "    <tr>\n",
       "      <th>2</th>\n",
       "      <td>北京</td>\n",
       "      <td>杏树林信息技术（北京）有限公司</td>\n",
       "      <td>['A类人才', '股票期权', '带薪年假', '年度旅游']</td>\n",
       "      <td>150-500人</td>\n",
       "      <td>大专</td>\n",
       "      <td>C轮</td>\n",
       "      <td>开发/测试/运维类</td>\n",
       "      <td>移动互联网,医疗健康</td>\n",
       "      <td>全职</td>\n",
       "      <td>39.893135</td>\n",
       "      <td>116.447045</td>\n",
       "      <td>氛围好,追求卓越,免费三餐,免费下午茶</td>\n",
       "      <td>3690416</td>\n",
       "      <td>['医疗健康', '大数据', '二次元', '活动运营']</td>\n",
       "      <td>数据分析师-医疗</td>\n",
       "      <td>10k-20k</td>\n",
       "      <td>1-3年</td>\n",
       "      <td>15000.0</td>\n",
       "    </tr>\n",
       "    <tr>\n",
       "      <th>3</th>\n",
       "      <td>北京</td>\n",
       "      <td>支付宝(杭州)信息技术有限公司</td>\n",
       "      <td>['年底双薪', '带薪年假', '股票期权', '绩效奖金']</td>\n",
       "      <td>2000人以上</td>\n",
       "      <td>本科</td>\n",
       "      <td>B轮</td>\n",
       "      <td>开发/测试/运维类</td>\n",
       "      <td>金融,移动互联网</td>\n",
       "      <td>全职</td>\n",
       "      <td>39.993252</td>\n",
       "      <td>116.473198</td>\n",
       "      <td>核心事业部,顶级的技术,大牛云集,学习晋升快</td>\n",
       "      <td>3692688</td>\n",
       "      <td>['搜索', '机器学习', '数据图谱']</td>\n",
       "      <td>高德-NLP/推荐算法/数据挖掘/数据分析/图谱</td>\n",
       "      <td>25k-50k</td>\n",
       "      <td>3-5年</td>\n",
       "      <td>37500.0</td>\n",
       "    </tr>\n",
       "    <tr>\n",
       "      <th>4</th>\n",
       "      <td>北京</td>\n",
       "      <td>优舫（北京）信息科技有限公司</td>\n",
       "      <td>['绩效奖金', '通讯津贴', '带薪年假', '交通补助']</td>\n",
       "      <td>2000人以上</td>\n",
       "      <td>本科</td>\n",
       "      <td>D轮及以上</td>\n",
       "      <td>开发/测试/运维类</td>\n",
       "      <td>电子商务,移动互联网</td>\n",
       "      <td>全职</td>\n",
       "      <td>39.991772</td>\n",
       "      <td>116.473585</td>\n",
       "      <td>福利待遇佳、企业平台好、晋升空间大</td>\n",
       "      <td>4083696</td>\n",
       "      <td>['数据挖掘', '用户行为分析']</td>\n",
       "      <td>资深数据分析师-北京-13343</td>\n",
       "      <td>20k-30k</td>\n",
       "      <td>5-10年</td>\n",
       "      <td>25000.0</td>\n",
       "    </tr>\n",
       "  </tbody>\n",
       "</table>\n",
       "</div>"
      ],
      "text/plain": [
       "  city  companyFullName                  companyLabelList companySize  \\\n",
       "0   上海      德佑房地产经纪有限公司  ['技能培训', '带薪年假', '年度旅游', '岗位晋升']   500-2000人   \n",
       "1   杭州         浙江日报报业集团   ['带薪年假', '美女多', '定期体检', '人才公寓']     2000人以上   \n",
       "2   北京  杏树林信息技术（北京）有限公司  ['A类人才', '股票期权', '带薪年假', '年度旅游']    150-500人   \n",
       "3   北京  支付宝(杭州)信息技术有限公司  ['年底双薪', '带薪年假', '股票期权', '绩效奖金']     2000人以上   \n",
       "4   北京   优舫（北京）信息科技有限公司  ['绩效奖金', '通讯津贴', '带薪年假', '交通补助']     2000人以上   \n",
       "\n",
       "  education financeStage  firstType industryField jobNature   latitude  \\\n",
       "0        本科           B轮      市场与销售          企业服务        全职  31.230434   \n",
       "1        本科        不需要融资  开发/测试/运维类    移动互联网,文化娱乐        全职  29.993662   \n",
       "2        大专           C轮  开发/测试/运维类    移动互联网,医疗健康        全职  39.893135   \n",
       "3        本科           B轮  开发/测试/运维类      金融,移动互联网        全职  39.993252   \n",
       "4        本科        D轮及以上  开发/测试/运维类    电子商务,移动互联网        全职  39.991772   \n",
       "\n",
       "    longitude       positionAdvantage  positionId  \\\n",
       "0  121.463097         大数据 大挑战 有竞争力的薪资     1735598   \n",
       "1  119.993591       五险一金,绩效奖金,通讯补贴,餐补     2780066   \n",
       "2  116.447045     氛围好,追求卓越,免费三餐,免费下午茶     3690416   \n",
       "3  116.473198  核心事业部,顶级的技术,大牛云集,学习晋升快     3692688   \n",
       "4  116.473585       福利待遇佳、企业平台好、晋升空间大     4083696   \n",
       "\n",
       "                   positionLables              positionName   salary workYear  \\\n",
       "0                         ['大数据']                    数据分析专家  20k-30k    5-10年   \n",
       "1                              []                   运营数据分析师   8k-15k     1-3年   \n",
       "2  ['医疗健康', '大数据', '二次元', '活动运营']                  数据分析师-医疗  10k-20k     1-3年   \n",
       "3          ['搜索', '机器学习', '数据图谱']  高德-NLP/推荐算法/数据挖掘/数据分析/图谱  25k-50k     3-5年   \n",
       "4              ['数据挖掘', '用户行为分析']          资深数据分析师-北京-13343  20k-30k    5-10年   \n",
       "\n",
       "   salary_sp  \n",
       "0    25000.0  \n",
       "1    11500.0  \n",
       "2    15000.0  \n",
       "3    37500.0  \n",
       "4    25000.0  "
      ]
     },
     "execution_count": 38,
     "metadata": {},
     "output_type": "execute_result"
    }
   ],
   "source": [
    "lg_city.head()"
   ]
  },
  {
   "cell_type": "code",
   "execution_count": 8,
   "metadata": {},
   "outputs": [
    {
     "data": {
      "text/plain": [
       "Text(0.5,1,'薪资分布')"
      ]
     },
     "execution_count": 8,
     "metadata": {},
     "output_type": "execute_result"
    },
    {
     "data": {
      "image/png": "[encoded data removed]",
      "text/plain": [
       "<matplotlib.figure.Figure at 0x26e4d60d908>"
      ]
     },
     "metadata": {},
     "output_type": "display_data"
    }
   ],
   "source": [
    "%matplotlib inline\n",
    "# sns.distplot(lg_df.salary_sp)\n",
    "# sns.distplot(lg_df.salary_sp,hist=True, kde=True, rug=False)\n",
    "# sns.rugplot(lg_df.salary_sp)\n",
    "sns.kdeplot(lg_df.salary_sp, shade=True)\n",
    "plt.xlabel(\"薪资\")\n",
    "plt.ylabel('数量')\n",
    "plt.title('薪资分布')"
   ]
  },
  {
   "cell_type": "code",
   "execution_count": 99,
   "metadata": {
    "scrolled": true
   },
   "outputs": [
    {
     "data": {
      "image/png": "[encoded data removed]",
      "text/plain": [
       "<matplotlib.figure.Figure at 0x26e5445bdd8>"
      ]
     },
     "metadata": {},
     "output_type": "display_data"
    }
   ],
   "source": [
    "city_counts = lg_city.groupby('city', as_index=False)['companyFullName'].count().sort_values(by=\"companyFullName\", ascending=False)\n",
    "g1 = sns.barplot(x=\"companyFullName\", y=\"city\", data=city_counts, color='c',estimator=lambda x: sum(x)*100/city_counts['companyFullName'].sum())\n",
    "rects1 = g1.patches\n",
    "\n",
    "for rect in rects1:\n",
    "    height = rect.get_height()\n",
    "    width = rect.get_width()\n",
    "    g1.text(x=rect.get_width()+0.5, y=(rect.get_y()+height/1.7), s=str(round(rect.get_width(),2))+\"%\")\n",
    "plt.xlabel(\"\")\n",
    "plt.ylabel(\"\")\n",
    "plt.title(\"城市 VS 岗位数量\")\n",
    "g1.set_xticks([], minor=False)\n",
    "sns.despine(bottom=True, left=True)\n"
   ]
  },
  {
   "cell_type": "code",
   "execution_count": 10,
   "metadata": {},
   "outputs": [
    {
     "data": {
      "text/plain": [
       "2379"
      ]
     },
     "execution_count": 10,
     "metadata": {},
     "output_type": "execute_result"
    }
   ],
   "source": [
    "city_counts['companyFullName'].sum()"
   ]
  },
  {
   "cell_type": "code",
   "execution_count": 102,
   "metadata": {
    "scrolled": true
   },
   "outputs": [
    {
     "data": {
      "image/png": "[encoded data removed]",
      "text/plain": [
       "<matplotlib.figure.Figure at 0x26e51f4f860>"
      ]
     },
     "metadata": {},
     "output_type": "display_data"
    }
   ],
   "source": [
    "# 平均薪资排名前十的城市\n",
    "salary_summary = lg_city.groupby(\"city\", as_index=False)[\"salary_sp\"].mean().sort_values(by=\"salary_sp\", ascending=False)\n",
    "# top_ten_salary.sort_values().plot(kind=\"barh\")\n",
    "g2 = sns.barplot(y='city', x='salary_sp', data=salary_summary, color=\"c\")\n",
    "rects = g2.patches\n",
    "# labels = [\"label%d\" % i for i in range(len(rects))]\n",
    "for rect in rects:\n",
    "    height = rect.get_height()\n",
    "    width = rect.get_width()\n",
    "    g2.text(x=rect.get_width()+200, y=(rect.get_y()+height/1.5), s=int(rect.get_width()))\n",
    "plt.xlabel(s=\"\")\n",
    "plt.ylabel(s=\"\")\n",
    "plt.title(\"城市 VS 薪资\")\n",
    "g2.set_xticks([], minor=False)\n",
    "sns.despine(bottom=True, left=True)"
   ]
  },
  {
   "cell_type": "code",
   "execution_count": 29,
   "metadata": {
    "scrolled": true
   },
   "outputs": [
    {
     "data": {
      "image/png": "[encoded data removed]",
      "text/plain": [
       "<matplotlib.figure.Figure at 0x26e51fcc358>"
      ]
     },
     "metadata": {},
     "output_type": "display_data"
    }
   ],
   "source": [
    "sns.boxplot(x=\"city\", y=\"salary_sp\", data=lg_city, order=lg_city.groupby(\"city\")['salary_sp'].median().sort_values(ascending=False).keys(), color=\"c\")\n",
    "plt.ylim(0, 45000)\n",
    "plt.xlabel(\"\")\n",
    "plt.ylabel(\"平均薪资\")\n",
    "plt.title(\"数据分析岗位各城市平均薪资箱线图\")\n",
    "sns.despine(bottom=True,left=True)"
   ]
  },
  {
   "cell_type": "code",
   "execution_count": 103,
   "metadata": {
    "scrolled": true
   },
   "outputs": [
    {
     "data": {
      "image/png": "[encoded data removed]",
      "text/plain": [
       "<matplotlib.figure.Figure at 0x26e539525c0>"
      ]
     },
     "metadata": {},
     "output_type": "display_data"
    }
   ],
   "source": [
    "# 数据分析岗位所需学位\n",
    "education_count = lg_df.groupby(\"education\",as_index=False)[\"companyFullName\"].count()\n",
    "g3 = sns.barplot(x=\"education\", y=\"companyFullName\", data=education_count.sort_values(by=\"companyFullName\"),\n",
    "                 color='c', estimator=lambda x:sum(x)*100/education_count[\"companyFullName\"].sum())\n",
    "rects3 = g3.patches\n",
    "for rect in rects3:\n",
    "    height = rect.get_height()\n",
    "    width = rect.get_width()\n",
    "    g3.text(x=rect.get_x()+0.2, y=height+3, s=str(round(height,2))+\"%\")\n",
    "\n",
    "plt.xlabel(\"\")\n",
    "g3.set_yticks([], minor=False)\n",
    "plt.ylabel('')\n",
    "plt.title(\"学历 vs 岗位数量\")\n",
    "sns.despine(bottom=True, left=True)"
   ]
  },
  {
   "cell_type": "code",
   "execution_count": 34,
   "metadata": {},
   "outputs": [
    {
     "data": {
      "image/png": "[encoded data removed]",
      "text/plain": [
       "<matplotlib.figure.Figure at 0x26e51fd3978>"
      ]
     },
     "metadata": {},
     "output_type": "display_data"
    }
   ],
   "source": [
    "sns.boxplot(x=\"education\", y=\"salary_sp\", data=lg_df,\n",
    "            order=lg_df.groupby(\"education\")[\"salary_sp\"].median().sort_values(ascending=False).keys(), color=\"c\")\n",
    "plt.ylim(0,45000)\n",
    "plt.xlabel(\"\")\n",
    "plt.ylabel(\"平均薪资\")\n",
    "plt.title(\"学历 vs 薪资 箱线图\")\n",
    "sns.despine(bottom=True, left=True)"
   ]
  },
  {
   "cell_type": "code",
   "execution_count": 39,
   "metadata": {
    "collapsed": true
   },
   "outputs": [],
   "source": [
    "def parse_workYear(workYear):\n",
    "    if workYear == \"应届毕业生\" or workYear == \"不限\" or workYear == \"1年以下\":\n",
    "        return \"小于1年\"\n",
    "    else:\n",
    "        return workYear\n",
    "\n",
    "lg_df[\"workYear_sp\"] = lg_df[\"workYear\"].apply(parse_workYear)"
   ]
  },
  {
   "cell_type": "code",
   "execution_count": 104,
   "metadata": {},
   "outputs": [
    {
     "data": {
      "image/png": "[encoded data removed]",
      "text/plain": [
       "<matplotlib.figure.Figure at 0x26e51d42978>"
      ]
     },
     "metadata": {},
     "output_type": "display_data"
    }
   ],
   "source": [
    "# 工作年限\n",
    "education_count = lg_df.groupby(\"workYear_sp\",as_index=False)[\"companyFullName\"].count()\n",
    "g4 = sns.barplot(x=\"workYear_sp\", y=\"companyFullName\", data=education_count.sort_values(by=\"companyFullName\"), color='c',\n",
    "            estimator=lambda x : sum(x)*100 / education_count['companyFullName'].sum())\n",
    "plt.xlabel(\"\")\n",
    "plt.ylabel(\"\")\n",
    "plt.title(\"工作年限 vs 岗位数量\")\n",
    "g4.set_yticks([], minor=False)\n",
    "sns.despine(bottom=True, left=True)\n",
    "rects4 = g4.patches\n",
    "for rect in rects4:\n",
    "    height = rect.get_height()\n",
    "    width = rect.get_width()\n",
    "    g4.text(x=rect.get_x()+0.2, y=height+1, s=str(round(height,2))+\"%\")"
   ]
  },
  {
   "cell_type": "code",
   "execution_count": 68,
   "metadata": {
    "scrolled": true
   },
   "outputs": [
    {
     "data": {
      "text/plain": [
       "Text(0.5,1,'工作年薪 vs 薪资 箱线图')"
      ]
     },
     "execution_count": 68,
     "metadata": {},
     "output_type": "execute_result"
    },
    {
     "data": {
      "image/png": "[encoded data removed]",
      "text/plain": [
       "<matplotlib.figure.Figure at 0x26e542c5ac8>"
      ]
     },
     "metadata": {},
     "output_type": "display_data"
    }
   ],
   "source": [
    "sns.boxplot(x=\"workYear_sp\", y=\"salary_sp\", data=lg_df,\n",
    "            order=lg_df.groupby(\"workYear_sp\")[\"salary_sp\"].median().sort_values(ascending=False).keys(), color=\"c\")\n",
    "plt.ylim(0,60000)\n",
    "plt.xlabel(\"\")\n",
    "plt.ylabel(\"平均薪资\")\n",
    "sns.despine(bottom=True, left=True)\n",
    "plt.title(\"工作年薪 vs 薪资 箱线图\")"
   ]
  },
  {
   "cell_type": "code",
   "execution_count": 38,
   "metadata": {
    "scrolled": true
   },
   "outputs": [
    {
     "data": {
      "text/plain": [
       "<matplotlib.axes._subplots.AxesSubplot at 0x1e3b755a320>"
      ]
     },
     "execution_count": 38,
     "metadata": {},
     "output_type": "execute_result"
    },
    {
     "data": {
      "image/png": "[encoded data removed]",
      "text/plain": [
       "<matplotlib.figure.Figure at 0x1e3b5ce3828>"
      ]
     },
     "metadata": {},
     "output_type": "display_data"
    }
   ],
   "source": [
    "work_year_city = lg_df.groupby([\"city\",\"workYear_sp\"], as_index=False)[\"companyFullName\"].count()\n",
    "work_year_ig = work_year_city[work_year_city[\"workYear_sp\"] == \"应届&不限\"].sort_values(by=\"companyFullName\", ascending=False)[:10]\n",
    "sns.barplot(x=\"companyFullName\", y=\"city\",data=work_year_ig, color=\"c\")\n"
   ]
  },
  {
   "cell_type": "code",
   "execution_count": 48,
   "metadata": {
    "collapsed": true
   },
   "outputs": [],
   "source": [
    "# 行业分析\n",
    "# 公司行业描述一般有两个词语，有的一个词语\n",
    "fields = [str(field).replace(\"、\", \" \").replace(\",\", \" \").split(\" \") for field in lg_df.industryField]\n",
    "def count_tags(fields):\n",
    "    tags = {}\n",
    "    for field in fields:\n",
    "        for i in field:\n",
    "            if i:\n",
    "                if i not in tags:\n",
    "                    tags[i] = 1\n",
    "                else:\n",
    "                    tags[i] += 1\n",
    "    return tags"
   ]
  },
  {
   "cell_type": "code",
   "execution_count": 82,
   "metadata": {},
   "outputs": [
    {
     "data": {
      "image/png": "[encoded data removed]",
      "text/plain": [
       "<matplotlib.figure.Figure at 0x26e539b55c0>"
      ]
     },
     "metadata": {},
     "output_type": "display_data"
    }
   ],
   "source": [
    "tags = count_tags(fields)\n",
    "tags_df = pd.DataFrame(list(tags.items()), columns=['行业', '数量']).sort_values(by='数量',ascending=False) # 字典转成DataFrame, 在python3 中 使用 list(tags.items())\n",
    "g5 = sns.barplot(data=tags_df, x=\"数量\", y='行业', color='c',estimator=lambda x: sum(x)*100 / tags_df[\"数量\"].sum())\n",
    "plt.xlabel(\"\")\n",
    "plt.ylabel(\"\")\n",
    "plt.title('哪些行业数据分析师需求量最大？')\n",
    "sns.despine(bottom=True, left=True)\n",
    "g5.set_xticks([],minor=False)\n",
    "rects5 = g5.patches\n",
    "\n",
    "for rect in rects5:\n",
    "    height = rect.get_height()\n",
    "    width = rect.get_width()\n",
    "    g5.text(x=rect.get_width()+0.5, y=(rect.get_y()+height/1.2), s=str(round(rect.get_width(),2))+\"%\")\n"
   ]
  }
 ],
 "metadata": {
  "kernelspec": {
   "display_name": "Python 3",
   "language": "python",
   "name": "python3"
  },
  "language_info": {
   "codemirror_mode": {
    "name": "ipython",
    "version": 3
   },
   "file_extension": ".py",
   "mimetype": "text/x-python",
   "name": "python",
   "nbconvert_exporter": "python",
   "pygments_lexer": "ipython3",
   "version": "3.6.3"
  }
 },
 "nbformat": 4,
 "nbformat_minor": 2
}
